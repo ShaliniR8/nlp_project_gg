{
 "cells": [
  {
   "cell_type": "code",
   "execution_count": 12,
   "metadata": {},
   "outputs": [],
   "source": [
    "import pandas as pd\n",
    "import string\n",
    "import re\n",
    "import nltk\n",
    "from nltk.tokenize import TweetTokenizer\n",
    "from nltk.corpus import stopwords as sw\n",
    "from nltk import word_tokenize, pos_tag\n",
    "from urllib.request import urlopen"
   ]
  },
  {
   "cell_type": "code",
   "execution_count": 13,
   "metadata": {},
   "outputs": [
    {
     "name": "stderr",
     "output_type": "stream",
     "text": [
      "[nltk_data] Downloading package punkt to\n",
      "[nltk_data]     C:\\Users\\KIIT\\AppData\\Roaming\\nltk_data...\n",
      "[nltk_data]   Package punkt is already up-to-date!\n",
      "[nltk_data] Downloading package averaged_perceptron_tagger to\n",
      "[nltk_data]     C:\\Users\\KIIT\\AppData\\Roaming\\nltk_data...\n",
      "[nltk_data]   Package averaged_perceptron_tagger is already up-to-\n",
      "[nltk_data]       date!\n"
     ]
    }
   ],
   "source": [
    "%%capture\n",
    "nltk.download('punkt')\n",
    "nltk.download('averaged_perceptron_tagger')"
   ]
  },
  {
   "cell_type": "code",
   "execution_count": 14,
   "metadata": {},
   "outputs": [],
   "source": [
    "def load_json_to_csv(year):\n",
    "     df_raw = pd.read_json(f\"datasets/gg{year}.json\")\n",
    "     df_raw = df_raw.sort_values(by=[\"timestamp_ms\"], ascending=True)\n",
    "     df = df_raw[[\"text\"]].copy()\n",
    "     return df\n",
    "     "
   ]
  },
  {
   "cell_type": "code",
   "execution_count": 15,
   "metadata": {},
   "outputs": [],
   "source": [
    "def filter_language(df, spanish_sw, english_sw):\n",
    "     boolean = []\n",
    "     for sent in df[\"text\"]:\n",
    "          s_count = len(set(sent.lower().split()).intersection(spanish_sw)) \n",
    "          e_count =  len(set(sent.lower().split()).intersection(english_sw))\n",
    "          if s_count > e_count: boolean.append(False)\n",
    "          else: boolean.append(True)\n",
    "     \n",
    "     return boolean\n",
    "     "
   ]
  },
  {
   "cell_type": "code",
   "execution_count": 22,
   "metadata": {},
   "outputs": [],
   "source": [
    "\n",
    "#initial cleaning of the tweets/sentences in three steps -- \n",
    "# 1)Extract the sentences if it's a normal tweet. If it's not a simple tweet, i.e, it's a retweet of a \n",
    "# tweet, then extract the tweet within that retweet.\n",
    "# 2)Remove links \n",
    "# 3)Remove emojis\n",
    "# 4)Remove unicode characters\n",
    "# 5)Remove Apostrophe s ('s)\n",
    "def preprocess_1(x):\n",
    "     def fetch_rt(x):\n",
    "          pattern = re.compile(\"(RT @\\w+:)(?P<rt>.+)\")\n",
    "          retweet = re.match(pattern, x)\n",
    "          if retweet is None: return x \n",
    "          else: \n",
    "               return retweet.group(\"rt\")\n",
    "\n",
    "     def remove_links(x):\n",
    "          pattern = re.compile('((http:|https:)[a-zA-Z0-9\\._\\\\/]+)')\n",
    "          links = re.findall(pattern, x)\n",
    "          for link in links:\n",
    "               x = re.sub(link[0], \" \", x)\n",
    "          return x\n",
    "     \n",
    "     def remove_emojis(x):\n",
    "            x = re.sub(\"[;:.=<>^/\\|?*\\)\\(]+\", \"\", x)\n",
    "            return x\n",
    "\n",
    "     def remove_unicode(x):\n",
    "          x = x.encode(\"ascii\", \"ignore\").decode()\n",
    "          return x\n",
    "\n",
    "     def remove_apostrophe(x):\n",
    "          x = re.sub(\"('s)\", \"\", x)\n",
    "          return x  \n",
    "\n",
    "     def remove_stopwords(x, spanish_sw, english_sw):\n",
    "          pass \n",
    "\n",
    "     x = fetch_rt(x)\n",
    "     x = remove_links(x)\n",
    "     x = remove_emojis(x)\n",
    "     x = remove_unicode(x)\n",
    "     x = remove_apostrophe(x)\n",
    "     \n",
    "     return x\n",
    "\n",
    "\n"
   ]
  },
  {
   "cell_type": "code",
   "execution_count": 23,
   "metadata": {},
   "outputs": [],
   "source": [
    "# tokenize with TweetTokenizer to separate hashtags safely\n",
    "# hashtags --> information about the topic of tweet\n",
    "\n",
    "def preprocess_2(texts, english_sw):\n",
    "     tweet_tokenizer = TweetTokenizer()\n",
    "     tokenized = [tweet_tokenizer.tokenize(text) for text in texts]\n",
    "\n",
    "     def separate_hashtags(sent, stopwords):\n",
    "          hashtags, text = [], []\n",
    "          for word in sent:\n",
    "               if \"#\" in word: \n",
    "                    hashtags.append(word.replace(\"#\", \"\").lower())\n",
    "                    if word.lower() not in stopwords: stopwords.add(word.lower())\n",
    "               if word not in string.punctuation and word.lower() not in stopwords and '#' not in word and '@' not in word: text.append(word)\n",
    "\n",
    "\n",
    "          return text, hashtags\n",
    "\n",
    "     list_hashtags, list_text, stopwords = [], [], set(english_sw)\n",
    "\n",
    "     for sent in tokenized:\n",
    "          text, hashtags = separate_hashtags(sent, stopwords)\n",
    "          if len(text) > 1:\n",
    "               list_text.append(\" \".join(text))\n",
    "               list_hashtags.append(\",\".join(hashtags))\n",
    "\n",
    "     df_nltk = pd.DataFrame({\"text\": list_text, \"topic\": list_hashtags})\n",
    "     return df_nltk"
   ]
  },
  {
   "cell_type": "code",
   "execution_count": 24,
   "metadata": {},
   "outputs": [],
   "source": [
    "def preprocess(year):\n",
    "     # load raw json into csv dataset\n",
    "     df = load_json_to_csv(year)\n",
    "     print(\"..Converted json to csv.\")\n",
    "\n",
    "     # stopwords \n",
    "     spanish_sw = sw.words(\"spanish\")\n",
    "     english_sw = ['i', 'me', 'my', 'myself', 'we', 'our', 'ours', 'ourselves', 'you', \"you're\", \"you've\", \"you'll\", \"you'd\", 'your', 'yours', 'yourself', 'yourselves', 'he', 'him', 'his', 'himself', 'she', \"she's\", 'her', 'hers', 'herself', 'it', \"it's\", 'its', 'itself', 'they', 'them', 'their', 'theirs', 'themselves', 'what', 'which', 'who', 'whom', 'this', 'that', \"that'll\", 'these', 'those', 'am', 'is', 'are', 'was', 'were', 'be', 'been', 'being', 'have', 'has', 'had', 'having', 'do', 'does', 'did', 'doing', 'a', 'an', 'the', 'and', 'but', 'if', 'or', 'because', 'as', 'until', 'while', 'of', 'at', 'with', 'about', 'against', 'between', 'into', 'through', 'during', 'before', 'after', 'above', 'below', 'up', 'down', 'in', 'out', 'on', 'off', 'over', 'under', 'again', 'further', 'then', 'once', 'here', 'there', 'when', 'where', 'why', 'how', 'all', 'any', 'both', 'each', 'few', 'more', 'most', 'other', 'some', 'such', 'only', 'own', 'same', 'so', 'too', 'very', 's', 't', 'can', 'will', 'just', 'don', \"don't\", 'should', \"should've\", 'now', 'd', 'll', 'm', 'o', 're', 've', 'y']\n",
    "     \n",
    "     # preprocessing 1\n",
    "     df[\"text\"] = df[\"text\"].apply(lambda x: preprocess_1(x))\n",
    "     df = df.drop_duplicates(subset=[\"text\"], keep='first', inplace=False, ignore_index=False)\n",
    "     print(\"Preprocessing 1...\")\n",
    "\n",
    "     # language filtering\n",
    "     boolean = filter_language(df, spanish_sw, english_sw)\n",
    "     print(boolean.count(False), boolean.count(True))\n",
    "     df_filtered = df[boolean]\n",
    "     print(\"Filtered english tweets..\")\n",
    "\n",
    "     # preprocessing 2\n",
    "     profanities = list()\n",
    "     for line in urlopen(\"https://www.cs.cmu.edu/~biglou/resources/bad-words.txt\"):\n",
    "          profanities.append(line.decode(\"utf-8\").replace('\\n',''))\n",
    "\n",
    "     df_pp2 = preprocess_2(list(df_filtered[\"text\"].copy()), english_sw + profanities)\n",
    "     print(\"Preprocessing 2...\")\n",
    "     \n",
    "     df_pp2.to_csv(\"datasets/dataset2.csv\", index=False)\n",
    "     print(\"Finished preprocessing.\")\n"
   ]
  },
  {
   "cell_type": "code",
   "execution_count": 25,
   "metadata": {},
   "outputs": [
    {
     "name": "stdout",
     "output_type": "stream",
     "text": [
      "..Converted json to csv.\n",
      "Preprocessing 1...\n",
      "19300 107225\n",
      "Filtered english tweets..\n",
      "Preprocessing 2...\n",
      "Finished preprocessing.\n"
     ]
    }
   ],
   "source": [
    "preprocess(2013)"
   ]
  },
  {
   "cell_type": "code",
   "execution_count": null,
   "metadata": {},
   "outputs": [],
   "source": []
  }
 ],
 "metadata": {
  "interpreter": {
   "hash": "3ebcc8a4ece6db563c32779c48cfef71cf219f89fa27ffda2cfb3dc04974fc15"
  },
  "kernelspec": {
   "display_name": "Python 3.8.13 ('globes')",
   "language": "python",
   "name": "python3"
  },
  "language_info": {
   "codemirror_mode": {
    "name": "ipython",
    "version": 3
   },
   "file_extension": ".py",
   "mimetype": "text/x-python",
   "name": "python",
   "nbconvert_exporter": "python",
   "pygments_lexer": "ipython3",
   "version": "3.8.13"
  },
  "orig_nbformat": 4
 },
 "nbformat": 4,
 "nbformat_minor": 2
}
