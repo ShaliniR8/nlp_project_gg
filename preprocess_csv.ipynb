{
 "cells": [
  {
   "cell_type": "code",
   "execution_count": 17,
   "metadata": {},
   "outputs": [
    {
     "name": "stdout",
     "output_type": "stream",
     "text": [
      "Requirement already satisfied: pandas in c:\\users\\kyle\\appdata\\local\\programs\\python\\python310\\lib\\site-packages (1.4.2)\n",
      "Requirement already satisfied: pytz>=2020.1 in c:\\users\\kyle\\appdata\\local\\programs\\python\\python310\\lib\\site-packages (from pandas) (2022.1)\n",
      "Requirement already satisfied: numpy>=1.21.0 in c:\\users\\kyle\\appdata\\local\\programs\\python\\python310\\lib\\site-packages (from pandas) (1.22.3)\n",
      "Requirement already satisfied: python-dateutil>=2.8.1 in c:\\users\\kyle\\appdata\\local\\programs\\python\\python310\\lib\\site-packages (from pandas) (2.8.2)\n",
      "Requirement already satisfied: six>=1.5 in c:\\users\\kyle\\appdata\\local\\programs\\python\\python310\\lib\\site-packages (from python-dateutil>=2.8.1->pandas) (1.16.0)\n",
      "Note: you may need to restart the kernel to use updated packages.\n"
     ]
    },
    {
     "name": "stderr",
     "output_type": "stream",
     "text": [
      "WARNING: You are using pip version 21.2.4; however, version 22.1 is available.\n",
      "You should consider upgrading via the 'c:\\Users\\Kyle\\AppData\\Local\\Programs\\Python\\Python310\\python.exe -m pip install --upgrade pip' command.\n"
     ]
    },
    {
     "name": "stdout",
     "output_type": "stream",
     "text": [
      "Requirement already satisfied: nltk in c:\\users\\kyle\\appdata\\local\\programs\\python\\python310\\lib\\site-packages (3.7)\n",
      "Requirement already satisfied: tqdm in c:\\users\\kyle\\appdata\\local\\programs\\python\\python310\\lib\\site-packages (from nltk) (4.64.0)\n",
      "Requirement already satisfied: regex>=2021.8.3 in c:\\users\\kyle\\appdata\\local\\programs\\python\\python310\\lib\\site-packages (from nltk) (2022.4.24)\n",
      "Requirement already satisfied: joblib in c:\\users\\kyle\\appdata\\local\\programs\\python\\python310\\lib\\site-packages (from nltk) (1.1.0)\n",
      "Requirement already satisfied: click in c:\\users\\kyle\\appdata\\local\\programs\\python\\python310\\lib\\site-packages (from nltk) (8.1.3)\n",
      "Requirement already satisfied: colorama in c:\\users\\kyle\\appdata\\local\\programs\\python\\python310\\lib\\site-packages (from click->nltk) (0.4.4)\n",
      "Note: you may need to restart the kernel to use updated packages.\n"
     ]
    },
    {
     "name": "stderr",
     "output_type": "stream",
     "text": [
      "WARNING: You are using pip version 21.2.4; however, version 22.1 is available.\n",
      "You should consider upgrading via the 'c:\\Users\\Kyle\\AppData\\Local\\Programs\\Python\\Python310\\python.exe -m pip install --upgrade pip' command.\n"
     ]
    }
   ],
   "source": [
    "%pip install pandas\n",
    "%pip install nltk"
   ]
  },
  {
   "cell_type": "code",
   "execution_count": 18,
   "metadata": {},
   "outputs": [],
   "source": [
    "import pandas as pd\n",
    "import string\n",
    "import re\n",
    "import nltk\n",
    "from nltk.tokenize import TweetTokenizer\n",
    "from nltk.corpus import stopwords as sw\n",
    "from nltk import word_tokenize, pos_tag"
   ]
  },
  {
   "cell_type": "code",
   "execution_count": 19,
   "metadata": {},
   "outputs": [
    {
     "name": "stderr",
     "output_type": "stream",
     "text": [
      "[nltk_data] Downloading package punkt to\n",
      "[nltk_data]     C:\\Users\\Kyle\\AppData\\Roaming\\nltk_data...\n",
      "[nltk_data]   Package punkt is already up-to-date!\n",
      "[nltk_data] Downloading package averaged_perceptron_tagger to\n",
      "[nltk_data]     C:\\Users\\Kyle\\AppData\\Roaming\\nltk_data...\n",
      "[nltk_data]   Package averaged_perceptron_tagger is already up-to-\n",
      "[nltk_data]       date!\n"
     ]
    }
   ],
   "source": [
    "%%capture\n",
    "nltk.download('punkt')\n",
    "nltk.download('averaged_perceptron_tagger')\n",
    "nltk.download('stopwords')"
   ]
  },
  {
   "cell_type": "code",
   "execution_count": 20,
   "metadata": {},
   "outputs": [],
   "source": [
    "def load_json_to_csv():\n",
    "     df_raw = pd.read_json(\"datasets/gg2013.json\")\n",
    "     df = df_raw[[\"text\", \"timestamp_ms\"]].copy()\n",
    "     df = df.rename(columns = {\"timestamp_ms\": \"time\"})\n",
    "     df = df.sort_values(by=[\"time\"], ascending=True)\n",
    "     df.to_csv(\"datasets/dataset1.csv\", index=False)\n",
    "     "
   ]
  },
  {
   "cell_type": "code",
   "execution_count": 21,
   "metadata": {},
   "outputs": [],
   "source": [
    "\n",
    "#initial cleaning of the tweets/sentences in three steps -- \n",
    "# 1)Extract the sentences if it's a normal tweet. If it's not a simple tweet, i.e, it's a retweet of a \n",
    "# tweet, then extract the tweet within that retweet.\n",
    "# 2)Remove links \n",
    "# 3)Remove emojis\n",
    "# 4)Remove unicode characters\n",
    "# 5)Remove Apostrophe s ('s)\n",
    "def preprocess_1(x):\n",
    "     def fetch_rt(x):\n",
    "          pattern = re.compile(\"(RT @\\w+:)(?P<rt>.+)\")\n",
    "          retweet = re.match(pattern, x)\n",
    "          if retweet is None: return x \n",
    "          else: \n",
    "               return retweet.group(\"rt\")\n",
    "\n",
    "     def remove_links(x):\n",
    "          pattern = re.compile('((http:|https:)[a-zA-Z0-9\\._\\\\/]+)')\n",
    "          links = re.findall(pattern, x)\n",
    "          for link in links:\n",
    "               x = re.sub(link[0], \" \", x)\n",
    "          return x\n",
    "     \n",
    "     def remove_emojis(x):\n",
    "            x = re.sub(\"[;:<>^/\\|?*\\)\\(]+\", \"\", x)\n",
    "            return x\n",
    "\n",
    "     def remove_unicode(x):\n",
    "          x = x.encode(\"ascii\", \"ignore\").decode()\n",
    "          return x\n",
    "\n",
    "     def remove_apostrophe(x):\n",
    "          x = re.sub(\"('s)\", \"\", x)\n",
    "          return x               \n",
    "\n",
    "\n",
    "     x = fetch_rt(x)\n",
    "     x = remove_links(x)\n",
    "     x = remove_emojis(x)\n",
    "     x = remove_unicode(x)\n",
    "     x = remove_apostrophe(x)\n",
    "     \n",
    "     return x\n",
    "\n",
    "\n"
   ]
  },
  {
   "cell_type": "code",
   "execution_count": 22,
   "metadata": {},
   "outputs": [],
   "source": [
    "# tokenize with TweetTokenizer to separate hashtags safely\n",
    "# hashtags --> information about the topic of tweet\n",
    "\n",
    "def preprocess_2(texts):\n",
    "     tweet_tokenizer = TweetTokenizer()\n",
    "     tokenized = [tweet_tokenizer.tokenize(text) for text in texts]\n",
    "\n",
    "     def separate_hashtags(sent, stopwords):\n",
    "          hashtags, text = [], []\n",
    "          for word in sent:\n",
    "               if \"#\" in word: \n",
    "                    hashtags.append(word.replace(\"#\", \"\").lower())\n",
    "                    if word.lower() not in stopwords: stopwords.add(word.lower())\n",
    "               if word not in string.punctuation and word.lower() not in stopwords and '#' not in word: text.append(word)\n",
    "\n",
    "          return text, hashtags\n",
    "\n",
    "     list_hashtags, list_text, stopwords = [], [], set(list(sw.words(\"english\"))[:20] + list(sw.words(\"spanish\")))\n",
    "\n",
    "     for sent in tokenized:\n",
    "          text, hashtags = separate_hashtags(sent, stopwords)\n",
    "          if len(text) > 1:\n",
    "               list_text.append(\" \".join(text))\n",
    "               list_hashtags.append(hashtags)\n",
    "\n",
    "     df_nltk = pd.DataFrame({\"text\": list_text, \"topic\": list_hashtags})\n",
    "     return df_nltk"
   ]
  },
  {
   "cell_type": "code",
   "execution_count": 23,
   "metadata": {},
   "outputs": [],
   "source": [
    "def preprocess():\n",
    "     load_json_to_csv()\n",
    "     print(\"..Converted json to csv.\")\n",
    "     df = pd.read_csv(\"datasets/dataset1.csv\")\n",
    "     df[\"text\"] = df[\"text\"].apply(lambda x: preprocess_1(x))\n",
    "     print(\"Preprocessing 1...\")\n",
    "     df = df.drop_duplicates(subset=[\"text\"], keep='first', inplace=False, ignore_index=False)\n",
    "     df_pp2 = preprocess_2(list(df[\"text\"].copy()))\n",
    "     print(\"Preprocessing 2...\")\n",
    "     df_pp2.to_csv(\"datasets/dataset2.csv\", index=False)\n",
    "     print(\"Finished preprocessing.\")\n"
   ]
  },
  {
   "cell_type": "code",
   "execution_count": 24,
   "metadata": {},
   "outputs": [
    {
     "name": "stdout",
     "output_type": "stream",
     "text": [
      "..Converted json to csv.\n",
      "Preprocessing 1...\n"
     ]
    },
    {
     "ename": "LookupError",
     "evalue": "\n**********************************************************************\n  Resource \u001b[93mstopwords\u001b[0m not found.\n  Please use the NLTK Downloader to obtain the resource:\n\n  \u001b[31m>>> import nltk\n  >>> nltk.download('stopwords')\n  \u001b[0m\n  For more information see: https://www.nltk.org/data.html\n\n  Attempted to load \u001b[93mcorpora/stopwords\u001b[0m\n\n  Searched in:\n    - 'C:\\\\Users\\\\Kyle/nltk_data'\n    - 'c:\\\\Users\\\\Kyle\\\\AppData\\\\Local\\\\Programs\\\\Python\\\\Python310\\\\nltk_data'\n    - 'c:\\\\Users\\\\Kyle\\\\AppData\\\\Local\\\\Programs\\\\Python\\\\Python310\\\\share\\\\nltk_data'\n    - 'c:\\\\Users\\\\Kyle\\\\AppData\\\\Local\\\\Programs\\\\Python\\\\Python310\\\\lib\\\\nltk_data'\n    - 'C:\\\\Users\\\\Kyle\\\\AppData\\\\Roaming\\\\nltk_data'\n    - 'C:\\\\nltk_data'\n    - 'D:\\\\nltk_data'\n    - 'E:\\\\nltk_data'\n**********************************************************************\n",
     "output_type": "error",
     "traceback": [
      "\u001b[1;31m---------------------------------------------------------------------------\u001b[0m",
      "\u001b[1;31mLookupError\u001b[0m                               Traceback (most recent call last)",
      "File \u001b[1;32mc:\\Users\\Kyle\\AppData\\Local\\Programs\\Python\\Python310\\lib\\site-packages\\nltk\\corpus\\util.py:84\u001b[0m, in \u001b[0;36mLazyCorpusLoader.__load\u001b[1;34m(self)\u001b[0m\n\u001b[0;32m     <a href='file:///c%3A/Users/Kyle/AppData/Local/Programs/Python/Python310/lib/site-packages/nltk/corpus/util.py?line=82'>83</a>\u001b[0m \u001b[39mtry\u001b[39;00m:\n\u001b[1;32m---> <a href='file:///c%3A/Users/Kyle/AppData/Local/Programs/Python/Python310/lib/site-packages/nltk/corpus/util.py?line=83'>84</a>\u001b[0m     root \u001b[39m=\u001b[39m nltk\u001b[39m.\u001b[39;49mdata\u001b[39m.\u001b[39;49mfind(\u001b[39mf\u001b[39;49m\u001b[39m\"\u001b[39;49m\u001b[39m{\u001b[39;49;00m\u001b[39mself\u001b[39;49m\u001b[39m.\u001b[39;49msubdir\u001b[39m}\u001b[39;49;00m\u001b[39m/\u001b[39;49m\u001b[39m{\u001b[39;49;00mzip_name\u001b[39m}\u001b[39;49;00m\u001b[39m\"\u001b[39;49m)\n\u001b[0;32m     <a href='file:///c%3A/Users/Kyle/AppData/Local/Programs/Python/Python310/lib/site-packages/nltk/corpus/util.py?line=84'>85</a>\u001b[0m \u001b[39mexcept\u001b[39;00m \u001b[39mLookupError\u001b[39;00m:\n",
      "File \u001b[1;32mc:\\Users\\Kyle\\AppData\\Local\\Programs\\Python\\Python310\\lib\\site-packages\\nltk\\data.py:583\u001b[0m, in \u001b[0;36mfind\u001b[1;34m(resource_name, paths)\u001b[0m\n\u001b[0;32m    <a href='file:///c%3A/Users/Kyle/AppData/Local/Programs/Python/Python310/lib/site-packages/nltk/data.py?line=581'>582</a>\u001b[0m resource_not_found \u001b[39m=\u001b[39m \u001b[39mf\u001b[39m\u001b[39m\"\u001b[39m\u001b[39m\\n\u001b[39;00m\u001b[39m{\u001b[39;00msep\u001b[39m}\u001b[39;00m\u001b[39m\\n\u001b[39;00m\u001b[39m{\u001b[39;00mmsg\u001b[39m}\u001b[39;00m\u001b[39m\\n\u001b[39;00m\u001b[39m{\u001b[39;00msep\u001b[39m}\u001b[39;00m\u001b[39m\\n\u001b[39;00m\u001b[39m\"\u001b[39m\n\u001b[1;32m--> <a href='file:///c%3A/Users/Kyle/AppData/Local/Programs/Python/Python310/lib/site-packages/nltk/data.py?line=582'>583</a>\u001b[0m \u001b[39mraise\u001b[39;00m \u001b[39mLookupError\u001b[39;00m(resource_not_found)\n",
      "\u001b[1;31mLookupError\u001b[0m: \n**********************************************************************\n  Resource \u001b[93mstopwords\u001b[0m not found.\n  Please use the NLTK Downloader to obtain the resource:\n\n  \u001b[31m>>> import nltk\n  >>> nltk.download('stopwords')\n  \u001b[0m\n  For more information see: https://www.nltk.org/data.html\n\n  Attempted to load \u001b[93mcorpora/stopwords.zip/stopwords/\u001b[0m\n\n  Searched in:\n    - 'C:\\\\Users\\\\Kyle/nltk_data'\n    - 'c:\\\\Users\\\\Kyle\\\\AppData\\\\Local\\\\Programs\\\\Python\\\\Python310\\\\nltk_data'\n    - 'c:\\\\Users\\\\Kyle\\\\AppData\\\\Local\\\\Programs\\\\Python\\\\Python310\\\\share\\\\nltk_data'\n    - 'c:\\\\Users\\\\Kyle\\\\AppData\\\\Local\\\\Programs\\\\Python\\\\Python310\\\\lib\\\\nltk_data'\n    - 'C:\\\\Users\\\\Kyle\\\\AppData\\\\Roaming\\\\nltk_data'\n    - 'C:\\\\nltk_data'\n    - 'D:\\\\nltk_data'\n    - 'E:\\\\nltk_data'\n**********************************************************************\n",
      "\nDuring handling of the above exception, another exception occurred:\n",
      "\u001b[1;31mLookupError\u001b[0m                               Traceback (most recent call last)",
      "\u001b[1;32mc:\\Users\\Kyle\\Documents\\Documents\\Northwestern University\\Sophomore\\Spring 2022\\CS337\\nlp_project_gg\\preprocess_csv.ipynb Cell 8'\u001b[0m in \u001b[0;36m<cell line: 1>\u001b[1;34m()\u001b[0m\n\u001b[1;32m----> <a href='vscode-notebook-cell:/c%3A/Users/Kyle/Documents/Documents/Northwestern%20University/Sophomore/Spring%202022/CS337/nlp_project_gg/preprocess_csv.ipynb#ch0000007?line=0'>1</a>\u001b[0m preprocess()\n",
      "\u001b[1;32mc:\\Users\\Kyle\\Documents\\Documents\\Northwestern University\\Sophomore\\Spring 2022\\CS337\\nlp_project_gg\\preprocess_csv.ipynb Cell 7'\u001b[0m in \u001b[0;36mpreprocess\u001b[1;34m()\u001b[0m\n\u001b[0;32m      <a href='vscode-notebook-cell:/c%3A/Users/Kyle/Documents/Documents/Northwestern%20University/Sophomore/Spring%202022/CS337/nlp_project_gg/preprocess_csv.ipynb#ch0000005?line=5'>6</a>\u001b[0m \u001b[39mprint\u001b[39m(\u001b[39m\"\u001b[39m\u001b[39mPreprocessing 1...\u001b[39m\u001b[39m\"\u001b[39m)\n\u001b[0;32m      <a href='vscode-notebook-cell:/c%3A/Users/Kyle/Documents/Documents/Northwestern%20University/Sophomore/Spring%202022/CS337/nlp_project_gg/preprocess_csv.ipynb#ch0000005?line=6'>7</a>\u001b[0m df \u001b[39m=\u001b[39m df\u001b[39m.\u001b[39mdrop_duplicates(subset\u001b[39m=\u001b[39m[\u001b[39m\"\u001b[39m\u001b[39mtext\u001b[39m\u001b[39m\"\u001b[39m], keep\u001b[39m=\u001b[39m\u001b[39m'\u001b[39m\u001b[39mfirst\u001b[39m\u001b[39m'\u001b[39m, inplace\u001b[39m=\u001b[39m\u001b[39mFalse\u001b[39;00m, ignore_index\u001b[39m=\u001b[39m\u001b[39mFalse\u001b[39;00m)\n\u001b[1;32m----> <a href='vscode-notebook-cell:/c%3A/Users/Kyle/Documents/Documents/Northwestern%20University/Sophomore/Spring%202022/CS337/nlp_project_gg/preprocess_csv.ipynb#ch0000005?line=7'>8</a>\u001b[0m df_pp2 \u001b[39m=\u001b[39m preprocess_2(\u001b[39mlist\u001b[39;49m(df[\u001b[39m\"\u001b[39;49m\u001b[39mtext\u001b[39;49m\u001b[39m\"\u001b[39;49m]\u001b[39m.\u001b[39;49mcopy()))\n\u001b[0;32m      <a href='vscode-notebook-cell:/c%3A/Users/Kyle/Documents/Documents/Northwestern%20University/Sophomore/Spring%202022/CS337/nlp_project_gg/preprocess_csv.ipynb#ch0000005?line=8'>9</a>\u001b[0m \u001b[39mprint\u001b[39m(\u001b[39m\"\u001b[39m\u001b[39mPreprocessing 2...\u001b[39m\u001b[39m\"\u001b[39m)\n\u001b[0;32m     <a href='vscode-notebook-cell:/c%3A/Users/Kyle/Documents/Documents/Northwestern%20University/Sophomore/Spring%202022/CS337/nlp_project_gg/preprocess_csv.ipynb#ch0000005?line=9'>10</a>\u001b[0m df_pp2\u001b[39m.\u001b[39mto_csv(\u001b[39m\"\u001b[39m\u001b[39mdatasets/dataset2.csv\u001b[39m\u001b[39m\"\u001b[39m, index\u001b[39m=\u001b[39m\u001b[39mFalse\u001b[39;00m)\n",
      "\u001b[1;32mc:\\Users\\Kyle\\Documents\\Documents\\Northwestern University\\Sophomore\\Spring 2022\\CS337\\nlp_project_gg\\preprocess_csv.ipynb Cell 6'\u001b[0m in \u001b[0;36mpreprocess_2\u001b[1;34m(texts)\u001b[0m\n\u001b[0;32m     <a href='vscode-notebook-cell:/c%3A/Users/Kyle/Documents/Documents/Northwestern%20University/Sophomore/Spring%202022/CS337/nlp_project_gg/preprocess_csv.ipynb#ch0000004?line=13'>14</a>\u001b[0m           \u001b[39mif\u001b[39;00m word \u001b[39mnot\u001b[39;00m \u001b[39min\u001b[39;00m string\u001b[39m.\u001b[39mpunctuation \u001b[39mand\u001b[39;00m word\u001b[39m.\u001b[39mlower() \u001b[39mnot\u001b[39;00m \u001b[39min\u001b[39;00m stopwords \u001b[39mand\u001b[39;00m \u001b[39m'\u001b[39m\u001b[39m#\u001b[39m\u001b[39m'\u001b[39m \u001b[39mnot\u001b[39;00m \u001b[39min\u001b[39;00m word: text\u001b[39m.\u001b[39mappend(word)\n\u001b[0;32m     <a href='vscode-notebook-cell:/c%3A/Users/Kyle/Documents/Documents/Northwestern%20University/Sophomore/Spring%202022/CS337/nlp_project_gg/preprocess_csv.ipynb#ch0000004?line=15'>16</a>\u001b[0m      \u001b[39mreturn\u001b[39;00m text, hashtags\n\u001b[1;32m---> <a href='vscode-notebook-cell:/c%3A/Users/Kyle/Documents/Documents/Northwestern%20University/Sophomore/Spring%202022/CS337/nlp_project_gg/preprocess_csv.ipynb#ch0000004?line=17'>18</a>\u001b[0m list_hashtags, list_text, stopwords \u001b[39m=\u001b[39m [], [], \u001b[39mset\u001b[39m(\u001b[39mlist\u001b[39m(sw\u001b[39m.\u001b[39;49mwords(\u001b[39m\"\u001b[39m\u001b[39menglish\u001b[39m\u001b[39m\"\u001b[39m))[:\u001b[39m20\u001b[39m] \u001b[39m+\u001b[39m \u001b[39mlist\u001b[39m(sw\u001b[39m.\u001b[39mwords(\u001b[39m\"\u001b[39m\u001b[39mspanish\u001b[39m\u001b[39m\"\u001b[39m)))\n\u001b[0;32m     <a href='vscode-notebook-cell:/c%3A/Users/Kyle/Documents/Documents/Northwestern%20University/Sophomore/Spring%202022/CS337/nlp_project_gg/preprocess_csv.ipynb#ch0000004?line=19'>20</a>\u001b[0m \u001b[39mfor\u001b[39;00m sent \u001b[39min\u001b[39;00m tokenized:\n\u001b[0;32m     <a href='vscode-notebook-cell:/c%3A/Users/Kyle/Documents/Documents/Northwestern%20University/Sophomore/Spring%202022/CS337/nlp_project_gg/preprocess_csv.ipynb#ch0000004?line=20'>21</a>\u001b[0m      text, hashtags \u001b[39m=\u001b[39m separate_hashtags(sent, stopwords)\n",
      "File \u001b[1;32mc:\\Users\\Kyle\\AppData\\Local\\Programs\\Python\\Python310\\lib\\site-packages\\nltk\\corpus\\util.py:121\u001b[0m, in \u001b[0;36mLazyCorpusLoader.__getattr__\u001b[1;34m(self, attr)\u001b[0m\n\u001b[0;32m    <a href='file:///c%3A/Users/Kyle/AppData/Local/Programs/Python/Python310/lib/site-packages/nltk/corpus/util.py?line=117'>118</a>\u001b[0m \u001b[39mif\u001b[39;00m attr \u001b[39m==\u001b[39m \u001b[39m\"\u001b[39m\u001b[39m__bases__\u001b[39m\u001b[39m\"\u001b[39m:\n\u001b[0;32m    <a href='file:///c%3A/Users/Kyle/AppData/Local/Programs/Python/Python310/lib/site-packages/nltk/corpus/util.py?line=118'>119</a>\u001b[0m     \u001b[39mraise\u001b[39;00m \u001b[39mAttributeError\u001b[39;00m(\u001b[39m\"\u001b[39m\u001b[39mLazyCorpusLoader object has no attribute \u001b[39m\u001b[39m'\u001b[39m\u001b[39m__bases__\u001b[39m\u001b[39m'\u001b[39m\u001b[39m\"\u001b[39m)\n\u001b[1;32m--> <a href='file:///c%3A/Users/Kyle/AppData/Local/Programs/Python/Python310/lib/site-packages/nltk/corpus/util.py?line=120'>121</a>\u001b[0m \u001b[39mself\u001b[39;49m\u001b[39m.\u001b[39;49m__load()\n\u001b[0;32m    <a href='file:///c%3A/Users/Kyle/AppData/Local/Programs/Python/Python310/lib/site-packages/nltk/corpus/util.py?line=121'>122</a>\u001b[0m \u001b[39m# This looks circular, but its not, since __load() changes our\u001b[39;00m\n\u001b[0;32m    <a href='file:///c%3A/Users/Kyle/AppData/Local/Programs/Python/Python310/lib/site-packages/nltk/corpus/util.py?line=122'>123</a>\u001b[0m \u001b[39m# __class__ to something new:\u001b[39;00m\n\u001b[0;32m    <a href='file:///c%3A/Users/Kyle/AppData/Local/Programs/Python/Python310/lib/site-packages/nltk/corpus/util.py?line=123'>124</a>\u001b[0m \u001b[39mreturn\u001b[39;00m \u001b[39mgetattr\u001b[39m(\u001b[39mself\u001b[39m, attr)\n",
      "File \u001b[1;32mc:\\Users\\Kyle\\AppData\\Local\\Programs\\Python\\Python310\\lib\\site-packages\\nltk\\corpus\\util.py:86\u001b[0m, in \u001b[0;36mLazyCorpusLoader.__load\u001b[1;34m(self)\u001b[0m\n\u001b[0;32m     <a href='file:///c%3A/Users/Kyle/AppData/Local/Programs/Python/Python310/lib/site-packages/nltk/corpus/util.py?line=83'>84</a>\u001b[0m             root \u001b[39m=\u001b[39m nltk\u001b[39m.\u001b[39mdata\u001b[39m.\u001b[39mfind(\u001b[39mf\u001b[39m\u001b[39m\"\u001b[39m\u001b[39m{\u001b[39;00m\u001b[39mself\u001b[39m\u001b[39m.\u001b[39msubdir\u001b[39m}\u001b[39;00m\u001b[39m/\u001b[39m\u001b[39m{\u001b[39;00mzip_name\u001b[39m}\u001b[39;00m\u001b[39m\"\u001b[39m)\n\u001b[0;32m     <a href='file:///c%3A/Users/Kyle/AppData/Local/Programs/Python/Python310/lib/site-packages/nltk/corpus/util.py?line=84'>85</a>\u001b[0m         \u001b[39mexcept\u001b[39;00m \u001b[39mLookupError\u001b[39;00m:\n\u001b[1;32m---> <a href='file:///c%3A/Users/Kyle/AppData/Local/Programs/Python/Python310/lib/site-packages/nltk/corpus/util.py?line=85'>86</a>\u001b[0m             \u001b[39mraise\u001b[39;00m e\n\u001b[0;32m     <a href='file:///c%3A/Users/Kyle/AppData/Local/Programs/Python/Python310/lib/site-packages/nltk/corpus/util.py?line=87'>88</a>\u001b[0m \u001b[39m# Load the corpus.\u001b[39;00m\n\u001b[0;32m     <a href='file:///c%3A/Users/Kyle/AppData/Local/Programs/Python/Python310/lib/site-packages/nltk/corpus/util.py?line=88'>89</a>\u001b[0m corpus \u001b[39m=\u001b[39m \u001b[39mself\u001b[39m\u001b[39m.\u001b[39m__reader_cls(root, \u001b[39m*\u001b[39m\u001b[39mself\u001b[39m\u001b[39m.\u001b[39m__args, \u001b[39m*\u001b[39m\u001b[39m*\u001b[39m\u001b[39mself\u001b[39m\u001b[39m.\u001b[39m__kwargs)\n",
      "File \u001b[1;32mc:\\Users\\Kyle\\AppData\\Local\\Programs\\Python\\Python310\\lib\\site-packages\\nltk\\corpus\\util.py:81\u001b[0m, in \u001b[0;36mLazyCorpusLoader.__load\u001b[1;34m(self)\u001b[0m\n\u001b[0;32m     <a href='file:///c%3A/Users/Kyle/AppData/Local/Programs/Python/Python310/lib/site-packages/nltk/corpus/util.py?line=78'>79</a>\u001b[0m \u001b[39melse\u001b[39;00m:\n\u001b[0;32m     <a href='file:///c%3A/Users/Kyle/AppData/Local/Programs/Python/Python310/lib/site-packages/nltk/corpus/util.py?line=79'>80</a>\u001b[0m     \u001b[39mtry\u001b[39;00m:\n\u001b[1;32m---> <a href='file:///c%3A/Users/Kyle/AppData/Local/Programs/Python/Python310/lib/site-packages/nltk/corpus/util.py?line=80'>81</a>\u001b[0m         root \u001b[39m=\u001b[39m nltk\u001b[39m.\u001b[39;49mdata\u001b[39m.\u001b[39;49mfind(\u001b[39mf\u001b[39;49m\u001b[39m\"\u001b[39;49m\u001b[39m{\u001b[39;49;00m\u001b[39mself\u001b[39;49m\u001b[39m.\u001b[39;49msubdir\u001b[39m}\u001b[39;49;00m\u001b[39m/\u001b[39;49m\u001b[39m{\u001b[39;49;00m\u001b[39mself\u001b[39;49m\u001b[39m.\u001b[39;49m__name\u001b[39m}\u001b[39;49;00m\u001b[39m\"\u001b[39;49m)\n\u001b[0;32m     <a href='file:///c%3A/Users/Kyle/AppData/Local/Programs/Python/Python310/lib/site-packages/nltk/corpus/util.py?line=81'>82</a>\u001b[0m     \u001b[39mexcept\u001b[39;00m \u001b[39mLookupError\u001b[39;00m \u001b[39mas\u001b[39;00m e:\n\u001b[0;32m     <a href='file:///c%3A/Users/Kyle/AppData/Local/Programs/Python/Python310/lib/site-packages/nltk/corpus/util.py?line=82'>83</a>\u001b[0m         \u001b[39mtry\u001b[39;00m:\n",
      "File \u001b[1;32mc:\\Users\\Kyle\\AppData\\Local\\Programs\\Python\\Python310\\lib\\site-packages\\nltk\\data.py:583\u001b[0m, in \u001b[0;36mfind\u001b[1;34m(resource_name, paths)\u001b[0m\n\u001b[0;32m    <a href='file:///c%3A/Users/Kyle/AppData/Local/Programs/Python/Python310/lib/site-packages/nltk/data.py?line=580'>581</a>\u001b[0m sep \u001b[39m=\u001b[39m \u001b[39m\"\u001b[39m\u001b[39m*\u001b[39m\u001b[39m\"\u001b[39m \u001b[39m*\u001b[39m \u001b[39m70\u001b[39m\n\u001b[0;32m    <a href='file:///c%3A/Users/Kyle/AppData/Local/Programs/Python/Python310/lib/site-packages/nltk/data.py?line=581'>582</a>\u001b[0m resource_not_found \u001b[39m=\u001b[39m \u001b[39mf\u001b[39m\u001b[39m\"\u001b[39m\u001b[39m\\n\u001b[39;00m\u001b[39m{\u001b[39;00msep\u001b[39m}\u001b[39;00m\u001b[39m\\n\u001b[39;00m\u001b[39m{\u001b[39;00mmsg\u001b[39m}\u001b[39;00m\u001b[39m\\n\u001b[39;00m\u001b[39m{\u001b[39;00msep\u001b[39m}\u001b[39;00m\u001b[39m\\n\u001b[39;00m\u001b[39m\"\u001b[39m\n\u001b[1;32m--> <a href='file:///c%3A/Users/Kyle/AppData/Local/Programs/Python/Python310/lib/site-packages/nltk/data.py?line=582'>583</a>\u001b[0m \u001b[39mraise\u001b[39;00m \u001b[39mLookupError\u001b[39;00m(resource_not_found)\n",
      "\u001b[1;31mLookupError\u001b[0m: \n**********************************************************************\n  Resource \u001b[93mstopwords\u001b[0m not found.\n  Please use the NLTK Downloader to obtain the resource:\n\n  \u001b[31m>>> import nltk\n  >>> nltk.download('stopwords')\n  \u001b[0m\n  For more information see: https://www.nltk.org/data.html\n\n  Attempted to load \u001b[93mcorpora/stopwords\u001b[0m\n\n  Searched in:\n    - 'C:\\\\Users\\\\Kyle/nltk_data'\n    - 'c:\\\\Users\\\\Kyle\\\\AppData\\\\Local\\\\Programs\\\\Python\\\\Python310\\\\nltk_data'\n    - 'c:\\\\Users\\\\Kyle\\\\AppData\\\\Local\\\\Programs\\\\Python\\\\Python310\\\\share\\\\nltk_data'\n    - 'c:\\\\Users\\\\Kyle\\\\AppData\\\\Local\\\\Programs\\\\Python\\\\Python310\\\\lib\\\\nltk_data'\n    - 'C:\\\\Users\\\\Kyle\\\\AppData\\\\Roaming\\\\nltk_data'\n    - 'C:\\\\nltk_data'\n    - 'D:\\\\nltk_data'\n    - 'E:\\\\nltk_data'\n**********************************************************************\n"
     ]
    }
   ],
   "source": [
    "preprocess()"
   ]
  }
 ],
 "metadata": {
  "interpreter": {
   "hash": "1b71bac9c495026ac314894acc67ce1522302aabe8018d8e93d44dbc51b6da4a"
  },
  "kernelspec": {
   "display_name": "Python 3.10.1 64-bit",
   "language": "python",
   "name": "python3"
  },
  "language_info": {
   "codemirror_mode": {
    "name": "ipython",
    "version": 3
   },
   "file_extension": ".py",
   "mimetype": "text/x-python",
   "name": "python",
   "nbconvert_exporter": "python",
   "pygments_lexer": "ipython3",
   "version": "3.10.1"
  },
  "orig_nbformat": 4
 },
 "nbformat": 4,
 "nbformat_minor": 2
}
