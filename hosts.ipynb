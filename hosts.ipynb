{
 "cells": [
  {
   "cell_type": "code",
   "execution_count": 1,
   "metadata": {},
   "outputs": [],
   "source": [
    "import pandas as pd\n",
    "import nltk\n",
    "from nltk.tokenize import TweetTokenizer\n",
    "from nltk.stem import PorterStemmer"
   ]
  },
  {
   "cell_type": "code",
   "execution_count": 2,
   "metadata": {},
   "outputs": [
    {
     "name": "stderr",
     "output_type": "stream",
     "text": [
      "[nltk_data] Downloading package punkt to\n",
      "[nltk_data]     C:\\Users\\KIIT\\AppData\\Roaming\\nltk_data...\n",
      "[nltk_data]   Package punkt is already up-to-date!\n",
      "[nltk_data] Downloading package averaged_perceptron_tagger to\n",
      "[nltk_data]     C:\\Users\\KIIT\\AppData\\Roaming\\nltk_data...\n",
      "[nltk_data]   Package averaged_perceptron_tagger is already up-to-\n",
      "[nltk_data]       date!\n"
     ]
    }
   ],
   "source": [
    "%%capture\n",
    "nltk.download('punkt')\n",
    "nltk.download('averaged_perceptron_tagger')"
   ]
  },
  {
   "cell_type": "code",
   "execution_count": null,
   "metadata": {},
   "outputs": [],
   "source": [
    "df = pd.read_csv(\"datasets/dataset2.csv\")"
   ]
  },
  {
   "cell_type": "code",
   "execution_count": 87,
   "metadata": {},
   "outputs": [
    {
     "data": {
      "text/plain": [
       "' type 2 '"
      ]
     },
     "execution_count": 87,
     "metadata": {},
     "output_type": "execute_result"
    }
   ],
   "source": [
    "\n",
    "\n",
    "def get_text_with_hosts(df):\n",
    "     text_with_hosts = []\n",
    "     for text in df[\"text\"]:\n",
    "          if \" host \" in text or \" hosting \" in text or \" hosted \" in text or \" hosts \" in text:\n",
    "               text_with_hosts.append(text)\n",
    "     return text_with_hosts\n",
    "\n",
    "def stem_ref_word(text_with_hosts):\n",
    "     sents_stemmed = []\n",
    "     tweet_tokenizer = TweetTokenizer()\n",
    "     stemmer = PorterStemmer()\n",
    "     tokenized_sents = [tweet_tokenizer.tokenize(text) for text in text_with_hosts]\n",
    "     for sent in tokenized_sents:\n",
    "          sent_stemmed = []\n",
    "          for word in sent:\n",
    "               tag =  nltk.pos_tag([word])[0][1]\n",
    "               if tag in [\"NNP\", \"NN\"]:\n",
    "                    sent_stemmed.append(word)\n",
    "               elif stemmer.stem(word) == \"host\":\n",
    "                    sent_stemmed.append(stemmer.stem(word))\n",
    "          sents_stemmed.append(sent_stemmed)\n",
    "     return sents_stemmed\n",
    "\n",
    "\n",
    "def get_right_bigrams(sent, i):\n",
    "     return list(nltk.bigrams(sent[:i]))\n",
    "def get_left_bigrams(sent, i):\n",
    "     return list(nltk.bigrams(sent[i+1:]))\n",
    "\n",
    "def get_candidates(sents):\n",
    "     all_bigrams = []\n",
    "     for sent in sents:\n",
    "          i = sent.index(\"host\")\n",
    "          right_bigrams = get_right_bigrams(sent, i)\n",
    "          left_bigrams = get_left_bigrams(sent, i)\n",
    "          if right_bigrams + left_bigrams != []:\n",
    "               all_bigrams = all_bigrams + right_bigrams + left_bigrams\n",
    "     return all_bigrams\n",
    "     \n",
    "\n",
    "               \n",
    "\n",
    "text_with_hosts = get_text_with_hosts(df)\n",
    "sents_stemmed = stem_ref_word(text_with_hosts)\n",
    "all_bigrams = get_candidates(sents_stemmed)\n",
    "\n",
    "\n",
    "\n",
    "\n",
    "\n",
    "\"\"\" type 1 \"\"\"\n",
    "     # sents_stemmed = []\n",
    "     # tweet_tokenizer = TweetTokenizer()\n",
    "     # stemmer = PorterStemmer()\n",
    "     # tokenized_sents = [tweet_tokenizer.tokenize(text) for text in text_with_hosts]\n",
    "     # for sent in tokenized_sents:\n",
    "     #      sent_stemmed = []\n",
    "     #      for word in sent:\n",
    "     #           tag =  nltk.pos_tag([word])[0][1]\n",
    "     #           if tag in [\"NNP\", \"NN\"]:\n",
    "     #                sent_stemmed.append(word)\n",
    "     #           elif stemmer.stem(word) == \"host\":\n",
    "     #                sent_stemmed.append(stemmer.stem(word))\n",
    "     #      sents_stemmed.append(sent_stemmed)\n",
    "     # return sents_stemmed\n",
    "\n",
    "\"\"\" type 2 \"\"\"\n",
    "\n",
    "     # sents_stemmed = []\n",
    "     # tweet_tokenizer = TweetTokenizer()\n",
    "     # stemmer = PorterStemmer()\n",
    "     # tokenized_sents = [tweet_tokenizer.tokenize(text) for text in text_with_hosts]\n",
    "     # for sent in tokenized_sents:\n",
    "     #      sent_stemmed = [stemmer.stem(word) if nltk.pos_tag([word])[0][1] not in [\"NNP\", \"NN\"] else word for word in sent]\n",
    "     #      sents_stemmed.append(sent_stemmed)\n",
    "     # return sents_stemmed\n",
    "\n",
    "     \n"
   ]
  },
  {
   "cell_type": "code",
   "execution_count": 88,
   "metadata": {},
   "outputs": [
    {
     "name": "stdout",
     "output_type": "stream",
     "text": [
      "['Tina Fey', 'Amy Poehler']\n"
     ]
    }
   ],
   "source": [
    "\n",
    "def get_all_choices(all_bigrams):\n",
    "     freq_dic = nltk.FreqDist(all_bigrams)\n",
    "     choices = []\n",
    "     Max = freq_dic[freq_dic.max()] \n",
    "     for key, value in freq_dic.items():\n",
    "          if value/Max > 0.9:\n",
    "               key = \" \".join(list(key))\n",
    "               choices.append(key)\n",
    "\n",
    "     return choices \n",
    "\n",
    "\n"
   ]
  }
 ],
 "metadata": {
  "interpreter": {
   "hash": "3ebcc8a4ece6db563c32779c48cfef71cf219f89fa27ffda2cfb3dc04974fc15"
  },
  "kernelspec": {
   "display_name": "Python 3.8.13 ('globes')",
   "language": "python",
   "name": "python3"
  },
  "language_info": {
   "codemirror_mode": {
    "name": "ipython",
    "version": 3
   },
   "file_extension": ".py",
   "mimetype": "text/x-python",
   "name": "python",
   "nbconvert_exporter": "python",
   "pygments_lexer": "ipython3",
   "version": "3.8.13"
  },
  "orig_nbformat": 4
 },
 "nbformat": 4,
 "nbformat_minor": 2
}
