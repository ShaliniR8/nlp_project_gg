{
 "cells": [
  {
   "cell_type": "code",
   "execution_count": 1,
   "metadata": {},
   "outputs": [
    {
     "name": "stderr",
     "output_type": "stream",
     "text": [
      "[nltk_data] Downloading package punkt to\n",
      "[nltk_data]     C:\\Users\\KIIT\\AppData\\Roaming\\nltk_data...\n",
      "[nltk_data]   Package punkt is already up-to-date!\n",
      "[nltk_data] Downloading package averaged_perceptron_tagger to\n",
      "[nltk_data]     C:\\Users\\KIIT\\AppData\\Roaming\\nltk_data...\n",
      "[nltk_data]   Package averaged_perceptron_tagger is already up-to-\n",
      "[nltk_data]       date!\n"
     ]
    }
   ],
   "source": [
    "import pandas as pd\n",
    "import json \n"
   ]
  },
  {
   "cell_type": "code",
   "execution_count": 3,
   "metadata": {},
   "outputs": [
    {
     "name": "stdout",
     "output_type": "stream",
     "text": [
      "                                                 text                time\n",
      "0              JLo's dress! #eredcarpet #GoldenGlobes 2013-01-14 00:45:38\n",
      "25  My Baby Leo DiCaprio.aaaaaah estava esperando ... 2013-01-14 00:45:38\n",
      "26      Kerry Washington is perfect!!!! #GoldenGlobes 2013-01-14 00:45:38\n",
      "27  It should be illegal to look as good as Ewan M... 2013-01-14 00:45:38\n",
      "28  .@kerrywashington's nude &amp; sheer = yes. Je... 2013-01-14 00:45:38\n",
      "29  Ok the moms are shutting it down tonight! Just... 2013-01-14 00:45:38\n",
      "30  When I grow up, I want to be Dame Helen Mirren... 2013-01-14 00:45:38\n",
      "31       Miu Miu!! yes @kerrywashington #goldenGlobes 2013-01-14 00:45:38\n",
      "32  @CarinesBridal @goldenglobes actually that cor... 2013-01-14 00:45:38\n",
      "34  Natalie Morales is gorgeous, but don't like th... 2013-01-14 00:45:38\n"
     ]
    }
   ],
   "source": [
    "df_raw = pd.read_json(\"gg2013.json\")\n",
    "df = df_raw[[\"text\", \"timestamp_ms\"]].copy()\n",
    "df = df.rename(columns = {\"timestamp_ms\": \"time\"})\n",
    "df = df.sort_values(by=[\"time\"], ascending=True)\n",
    "print(df.head(n=10))"
   ]
  },
  {
   "cell_type": "code",
   "execution_count": 6,
   "metadata": {},
   "outputs": [],
   "source": [
    "df.to_csv(\"datasets/dataset1.csv\", index=False)"
   ]
  }
 ],
 "metadata": {
  "interpreter": {
   "hash": "f51e6557648247a0c9a0d91be8e453c5080a2d174af2d2e4c5efa30c62e1f53f"
  },
  "kernelspec": {
   "display_name": "Python 3.8.13 ('globes')",
   "language": "python",
   "name": "python3"
  },
  "language_info": {
   "codemirror_mode": {
    "name": "ipython",
    "version": 3
   },
   "file_extension": ".py",
   "mimetype": "text/x-python",
   "name": "python",
   "nbconvert_exporter": "python",
   "pygments_lexer": "ipython3",
   "version": "3.8.13"
  },
  "orig_nbformat": 4
 },
 "nbformat": 4,
 "nbformat_minor": 2
}
