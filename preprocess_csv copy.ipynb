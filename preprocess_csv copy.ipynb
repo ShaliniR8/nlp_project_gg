{
 "cells": [
  {
   "cell_type": "code",
   "execution_count": 17,
   "metadata": {},
   "outputs": [],
   "source": [
    "# %pip install pandas\n",
    "# %pip install nltk"
   ]
  },
  {
   "cell_type": "code",
   "execution_count": 18,
   "metadata": {},
   "outputs": [],
   "source": [
    "import pandas as pd\n",
    "import string\n",
    "import re\n",
    "import nltk\n",
    "from nltk.tokenize import TweetTokenizer\n",
    "from nltk.corpus import stopwords as sw\n",
    "from nltk import word_tokenize, pos_tag\n",
    "OFFICIAL_AWARDS_1315 = ['cecil b. demille award', 'best motion picture - drama', 'best performance by an actress in a motion picture - drama', 'best performance by an actor in a motion picture - drama', 'best motion picture - comedy or musical', 'best performance by an actress in a motion picture - comedy or musical', 'best performance by an actor in a motion picture - comedy or musical', 'best animated feature film', 'best foreign language film', 'best performance by an actress in a supporting role in a motion picture', 'best performance by an actor in a supporting role in a motion picture', 'best director - motion picture', 'best screenplay - motion picture', 'best original score - motion picture', 'best original song - motion picture', 'best television series - drama', 'best performance by an actress in a television series - drama', 'best performance by an actor in a television series - drama', 'best television series - comedy or musical', 'best performance by an actress in a television series - comedy or musical', 'best performance by an actor in a television series - comedy or musical', 'best mini-series or motion picture made for television', 'best performance by an actress in a mini-series or motion picture made for television', 'best performance by an actor in a mini-series or motion picture made for television', 'best performance by an actress in a supporting role in a series, mini-series or motion picture made for television', 'best performance by an actor in a supporting role in a series, mini-series or motion picture made for television']"
   ]
  },
  {
   "cell_type": "code",
   "execution_count": 19,
   "metadata": {},
   "outputs": [],
   "source": [
    "# %%capture\n",
    "# nltk.download('punkt')\n",
    "# nltk.download('averaged_perceptron_tagger')\n",
    "# nltk.download('stopwords')"
   ]
  },
  {
   "cell_type": "code",
   "execution_count": 20,
   "metadata": {},
   "outputs": [],
   "source": [
    "df = pd.read_csv(\"datasets/dataset2.csv\")\n"
   ]
  },
  {
   "cell_type": "code",
   "execution_count": 21,
   "metadata": {},
   "outputs": [],
   "source": [
    "def sortCandidates(candidates):\n",
    "    c = nltk.FreqDist([item for sublist in candidates for item in sublist])\n",
    "    return c.max()\n",
    "    # top_3 = = c.keys()[:3] - for ranked list\n",
    "\n",
    "            \n",
    "def addRight(tweet, index):\n",
    "    arr = []\n",
    "    tArr = tweet.split() #NLTK func\n",
    "    if index == tArr.size(): return\n",
    "\n",
    "    s = tArr[index+1] #range could be oob\n",
    "    arr.append(s)\n",
    "\n",
    "    for i in range(index+2, tArr.size()): \n",
    "        s = s + \" \" + tArr[i]\n",
    "        arr.append(s)\n",
    "    return arr"
   ]
  },
  {
   "cell_type": "code",
   "execution_count": 22,
   "metadata": {},
   "outputs": [
    {
     "ename": "TypeError",
     "evalue": "max() takes 1 positional argument but 2 were given",
     "output_type": "error",
     "traceback": [
      "\u001b[1;31m---------------------------------------------------------------------------\u001b[0m",
      "\u001b[1;31mTypeError\u001b[0m                                 Traceback (most recent call last)",
      "\u001b[1;32mc:\\Users\\Kyle\\Documents\\Documents\\Northwestern University\\Sophomore\\Spring 2022\\CS337\\nlp_project_gg\\preprocess_csv copy.ipynb Cell 6'\u001b[0m in \u001b[0;36m<cell line: 9>\u001b[1;34m()\u001b[0m\n\u001b[0;32m     <a href='vscode-notebook-cell:/c%3A/Users/Kyle/Documents/Documents/Northwestern%20University/Sophomore/Spring%202022/CS337/nlp_project_gg/preprocess_csv%20copy.ipynb#ch0000010?line=11'>12</a>\u001b[0m         c \u001b[39m=\u001b[39m addRight(tweet)\n\u001b[0;32m     <a href='vscode-notebook-cell:/c%3A/Users/Kyle/Documents/Documents/Northwestern%20University/Sophomore/Spring%202022/CS337/nlp_project_gg/preprocess_csv%20copy.ipynb#ch0000010?line=12'>13</a>\u001b[0m         candidates\u001b[39m.\u001b[39mappend(c)\n\u001b[1;32m---> <a href='vscode-notebook-cell:/c%3A/Users/Kyle/Documents/Documents/Northwestern%20University/Sophomore/Spring%202022/CS337/nlp_project_gg/preprocess_csv%20copy.ipynb#ch0000010?line=13'>14</a>\u001b[0m     presenters[award] \u001b[39m=\u001b[39m sortCandidates(candidates) \u001b[39m#only returns 1 rn, will need multiple (set 2-3?)\u001b[39;00m\n\u001b[0;32m     <a href='vscode-notebook-cell:/c%3A/Users/Kyle/Documents/Documents/Northwestern%20University/Sophomore/Spring%202022/CS337/nlp_project_gg/preprocess_csv%20copy.ipynb#ch0000010?line=14'>15</a>\u001b[0m \u001b[39mprint\u001b[39m(presenters)\n",
      "\u001b[1;32mc:\\Users\\Kyle\\Documents\\Documents\\Northwestern University\\Sophomore\\Spring 2022\\CS337\\nlp_project_gg\\preprocess_csv copy.ipynb Cell 5'\u001b[0m in \u001b[0;36msortCandidates\u001b[1;34m(candidates)\u001b[0m\n\u001b[0;32m      <a href='vscode-notebook-cell:/c%3A/Users/Kyle/Documents/Documents/Northwestern%20University/Sophomore/Spring%202022/CS337/nlp_project_gg/preprocess_csv%20copy.ipynb#ch0000011?line=0'>1</a>\u001b[0m \u001b[39mdef\u001b[39;00m \u001b[39msortCandidates\u001b[39m(candidates):\n\u001b[0;32m      <a href='vscode-notebook-cell:/c%3A/Users/Kyle/Documents/Documents/Northwestern%20University/Sophomore/Spring%202022/CS337/nlp_project_gg/preprocess_csv%20copy.ipynb#ch0000011?line=1'>2</a>\u001b[0m     c \u001b[39m=\u001b[39m nltk\u001b[39m.\u001b[39mFreqDist([item \u001b[39mfor\u001b[39;00m sublist \u001b[39min\u001b[39;00m candidates \u001b[39mfor\u001b[39;00m item \u001b[39min\u001b[39;00m sublist])\n\u001b[1;32m----> <a href='vscode-notebook-cell:/c%3A/Users/Kyle/Documents/Documents/Northwestern%20University/Sophomore/Spring%202022/CS337/nlp_project_gg/preprocess_csv%20copy.ipynb#ch0000011?line=2'>3</a>\u001b[0m     \u001b[39mreturn\u001b[39;00m c\u001b[39m.\u001b[39;49mmax(\u001b[39m1\u001b[39;49m)\n",
      "\u001b[1;31mTypeError\u001b[0m: max() takes 1 positional argument but 2 were given"
     ]
    }
   ],
   "source": [
    "\n",
    "def filterPresenters(award):\n",
    "    filtered = []\n",
    "    for tweet in df:\n",
    "        if award in tweet and ('presenting' in tweet or 'present' in tweet or 'announce' in tweet or 'announcing' in tweet):\n",
    "            filtered.append(tweet)\n",
    "    return filtered\n",
    "\n",
    "presenters = {}\n",
    "for award in OFFICIAL_AWARDS_1315:\n",
    "    candidates = []\n",
    "    for tweet in filterPresenters(award):\n",
    "        c = addRight(tweet)\n",
    "        candidates.append(c)\n",
    "    presenters[award] = sortCandidates(candidates) #only returns 1 rn, will need multiple (set 2-3?)\n",
    "print(presenters)\n"
   ]
  }
 ],
 "metadata": {
  "interpreter": {
   "hash": "707d588309a7b476ba6766297f9b5ab05a3f68b75ec424e3b191abf6d016df66"
  },
  "kernelspec": {
   "display_name": "Python 3.8.13 ('gg2')",
   "language": "python",
   "name": "python3"
  },
  "language_info": {
   "codemirror_mode": {
    "name": "ipython",
    "version": 3
   },
   "file_extension": ".py",
   "mimetype": "text/x-python",
   "name": "python",
   "nbconvert_exporter": "python",
   "pygments_lexer": "ipython3",
   "version": "3.8.13"
  },
  "orig_nbformat": 4
 },
 "nbformat": 4,
 "nbformat_minor": 2
}
